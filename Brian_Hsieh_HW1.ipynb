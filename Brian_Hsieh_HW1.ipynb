{
 "cells": [
  {
   "cell_type": "markdown",
   "metadata": {
    "nbgrader": {
     "grade": false,
     "grade_id": "title",
     "locked": true,
     "schema_version": 2,
     "solution": false
    }
   },
   "source": [
    "## Homework 1\n",
    "### Due Tuesday September 17, 11:59 PM"
   ]
  },
  {
   "cell_type": "markdown",
   "metadata": {
    "nbgrader": {
     "grade": false,
     "grade_id": "title",
     "locked": true,
     "schema_version": 2,
     "solution": false
    }
   },
   "source": [
    "### Collaboration Policy\n",
    "\n",
    "While you may talk with others about\n",
    "the homework, we ask that you **write your solutions individually**. If you do\n",
    "discuss the assignments with others please **include their names** at the top\n",
    "of your notebook. "
   ]
  },
  {
   "cell_type": "markdown",
   "metadata": {},
   "source": [
    "**Collaborators**: *list collaborators here*"
   ]
  },
  {
   "cell_type": "markdown",
   "metadata": {},
   "source": [
    "### Goal\n",
    "\n",
    "Homework 1 will help prepare you for class along with the other assignments. The problems will review some of the programming that we will need throughout the semester. Please check the references for more information on unfamiliar material. Reach out to us in section and office hours for help. \n",
    "\n",
    "**Tips** To learn about keyboard shortcuts, go to **Help -> Keyboard Shortcuts** in the menu above. Get help for a function by running a cell with the function name and a `?` at the end...you can escape by hitting ```esc``` several times.  Alternatively type the function name, then <Shift>-<Tab> on your keyboard...you can press <Tab> multiple times to show additional information.\n",
    "\n",
    "### Score Breakdown\n",
    "Question | Points\n",
    "--- | ---\n",
    "1 | 2\n",
    "2a | 1\n",
    "2b | 1\n",
    "2c | 2\n",
    "2d | 2\n",
    "3a | 3\n",
    "3b | 3\n",
    "4a | 2\n",
    "4b | 2\n",
    "4c | 3\n",
    "4d | 3\n",
    "Total | 24"
   ]
  },
  {
   "cell_type": "markdown",
   "metadata": {
    "nbgrader": {
     "grade": false,
     "grade_id": "question-1d",
     "locked": true,
     "schema_version": 2,
     "solution": false
    }
   },
   "source": [
    "### Question 1\n",
    "Recall that summation (or sigma notation) is a way of expressing a long sum in a concise way.  Let $a_1, a_2, ..., a_n \\in \\mathbb{R}$ and $x_1, x_2, ..., x_n \\in \\mathbb{R}$ be collections of real numbers.  When you see $x_i$, you can think of the $i$ as an index for the $i^{th}$ $x$.  For example $x_2$ is the second $x$ value in the list $x_1, x_2, ..., x_n$.  We define sigma notation as follows:\n",
    "\n",
    "$$ \\sum_{i=1}^n a_i x_i = a_1 x_1 + a_2 x_2 + ... + a_n x_n $$\n",
    "\t\n",
    "We commonly use sigma notation to compactly write the definition of the arithmetic mean (commonly known as the ``average``):\n",
    "\t\n",
    "$$ \\bar{x} = \\dfrac{1}{n} \\left(x_1 + x_2 + ... + x_n \\right) = \\dfrac{1}{n} \\sum_{i=1}^{n} x_i $$\n",
    "\n",
    "Recall the formula for population variance below:\n",
    "\n",
    "$$\\sigma^2 = \\frac{\\sum_{i=1}^N (x_i - \\mu)^2}{N}$$\n",
    "\n",
    "Complete the functions below to compute the population variance of `population`, an array of numbers. For this question, do not use built in NumPy functions; we will use NumPy to verify your code."
   ]
  },
  {
   "cell_type": "code",
   "execution_count": 1,
   "metadata": {
    "nbgrader": {
     "grade": false,
     "grade_id": "all-the-imports",
     "locked": true,
     "schema_version": 2,
     "solution": false
    }
   },
   "outputs": [],
   "source": [
    "import numpy as np"
   ]
  },
  {
   "cell_type": "code",
   "execution_count": 2,
   "metadata": {
    "nbgrader": {
     "grade": false,
     "grade_id": "mean-variance",
     "locked": false,
     "schema_version": 2,
     "solution": true
    }
   },
   "outputs": [],
   "source": [
    "def mean(population):\n",
    "    \"\"\"\n",
    "    Returns the mean of population (mu)\n",
    "    \n",
    "    Keyword arguments:\n",
    "    population -- a numpy array of numbers\n",
    "    \"\"\"\n",
    "    # Calculate the mean of a population\n",
    "    sum = 0\n",
    "    for i in range(len(population)):\n",
    "        sum = sum + population[i]\n",
    "    \n",
    "    total = sum / len(population)\n",
    "    return total\n",
    "   \n",
    "\n",
    "def variance(population):\n",
    "    \"\"\"\n",
    "    Returns the variance of population (sigma squared)\n",
    "    \n",
    "    Keyword arguments:\n",
    "    population -- a numpy array of numbers\n",
    "    \"\"\"\n",
    "    average = mean(population)\n",
    "    sum = 0\n",
    "    for i in range(len(population)):\n",
    "        sum = sum + ((population[i] - average) ** 2)\n",
    "    total = sum / len(population)\n",
    "    return total"
   ]
  },
  {
   "cell_type": "markdown",
   "metadata": {},
   "source": [
    "Run the following cell to test your function against ```numpy```"
   ]
  },
  {
   "cell_type": "code",
   "execution_count": 3,
   "metadata": {
    "nbgrader": {
     "grade": true,
     "grade_id": "mean-variance-test",
     "locked": true,
     "points": 1,
     "schema_version": 2,
     "solution": false
    }
   },
   "outputs": [
    {
     "data": {
      "text/plain": [
       "True"
      ]
     },
     "execution_count": 3,
     "metadata": {},
     "output_type": "execute_result"
    }
   ],
   "source": [
    "# TEST\n",
    "population_0 = np.random.randn(100)\n",
    "np.isclose(mean(population_0), np.mean(population_0), atol=1e-6)"
   ]
  },
  {
   "cell_type": "code",
   "execution_count": null,
   "metadata": {},
   "outputs": [],
   "source": []
  },
  {
   "cell_type": "code",
   "execution_count": null,
   "metadata": {},
   "outputs": [],
   "source": []
  },
  {
   "cell_type": "code",
   "execution_count": 4,
   "metadata": {},
   "outputs": [
    {
     "data": {
      "text/plain": [
       "True"
      ]
     },
     "execution_count": 4,
     "metadata": {},
     "output_type": "execute_result"
    }
   ],
   "source": [
    "# TEST\n",
    "population_0 = np.random.randn(100)\n",
    "np.isclose(variance(population_0), np.var(population_0), atol=1e-6)"
   ]
  },
  {
   "cell_type": "markdown",
   "metadata": {},
   "source": [
    "### Question 2"
   ]
  },
  {
   "cell_type": "markdown",
   "metadata": {},
   "source": [
    "Suppose you're trying to meet your friend in either Central Park (denoted C) or Riverside Park (denoted R). \n",
    "\n",
    "Right now, you know that the chances of your friend being at $z$ are\n",
    "\n",
    "| &nbsp; | Chance |\n",
    "| --- | --- | \n",
    "| **z = Central Park** | 0.6 |\n",
    "| **z = Riverside Park** | 0.4 | "
   ]
  },
  {
   "cell_type": "markdown",
   "metadata": {},
   "source": [
    "a. Use ```numpy``` to create a $2 \\times 1$ array called ```v``` with chance of being in Central Park and Riverside Park. Try testing the dimensions."
   ]
  },
  {
   "cell_type": "code",
   "execution_count": 5,
   "metadata": {},
   "outputs": [
    {
     "data": {
      "text/plain": [
       "(2,)"
      ]
     },
     "execution_count": 5,
     "metadata": {},
     "output_type": "execute_result"
    }
   ],
   "source": [
    "# BEGIN SOLUTION\n",
    "v = np.array([0.6, 0.4])\n",
    "# TODO: solve me\n",
    "# END SOLUTION\n",
    "\n",
    "# TEST\n",
    "v.shape"
   ]
  },
  {
   "cell_type": "markdown",
   "metadata": {},
   "source": [
    "Since your friend like to wander around, you know that after 1 hour the chances of her walking from $x$ to $y$ are   \n",
    "\n",
    "| &nbsp; | x = Central Park | x=  Riverside Park |\n",
    "| --- | --- | --- |\n",
    "| **y = Central Park** | 0.6 | 0.7 |\n",
    "| **y = Riverside Park** | 0.4 | 0.3 |"
   ]
  },
  {
   "cell_type": "markdown",
   "metadata": {},
   "source": [
    "b. Use ```numpy``` to create a $2 \\times 2$ matrix ```M``` with chance of walking between parks. Try testing the dimensions."
   ]
  },
  {
   "cell_type": "code",
   "execution_count": 6,
   "metadata": {},
   "outputs": [
    {
     "name": "stdout",
     "output_type": "stream",
     "text": [
      "[[0.6 0.7]\n",
      " [0.4 0.3]]\n"
     ]
    },
    {
     "data": {
      "text/plain": [
       "(2, 2)"
      ]
     },
     "execution_count": 6,
     "metadata": {},
     "output_type": "execute_result"
    }
   ],
   "source": [
    "# BEGIN SOLUTION\n",
    "m = np.array([[.6, .7], [.4, .3]])\n",
    "print(m)\n",
    "# TODO: solve me\n",
    "# END SOLUTION\n",
    "m.shape"
   ]
  },
  {
   "cell_type": "markdown",
   "metadata": {},
   "source": [
    "c. Use the ```numpy``` sum method to sum the entries over columns. Do the entries sum to 1 -- why?\n",
    "\n",
    "Use the ```numpy``` sum method to sum the entries over rows. Do the entries sum to 1 -- why?"
   ]
  },
  {
   "cell_type": "code",
   "execution_count": 7,
   "metadata": {},
   "outputs": [
    {
     "name": "stdout",
     "output_type": "stream",
     "text": [
      "[1.3 0.7]\n",
      "[1. 1.]\n"
     ]
    }
   ],
   "source": [
    "# BEGIN SOLUTION\n",
    "#Summing over Rows\n",
    "rows = m.sum(axis=1)\n",
    "\n",
    "#Summing over Columns\n",
    "columns = m.sum(axis=0)\n",
    "\n",
    "print(rows)\n",
    "print(columns)\n",
    "# TODO: solve me\n",
    "# END SOLUTION"
   ]
  },
  {
   "cell_type": "markdown",
   "metadata": {},
   "source": [
    "The columns sum to 1 because if starting at x, there are only 2 options: stay in the current park or move to another park. These two options must sum up to 1 because you either stay or move to another park. \n",
    "\n",
    "The rows do not sum to 1 because the rows assume you start at y. "
   ]
  },
  {
   "cell_type": "markdown",
   "metadata": {},
   "source": [
    "d. Use the Law of Total Probability to determine the likelihood that your friend is in Central Park or Riverside Park after 1 hour. \n",
    "\n",
    "**Hint: Use the @ symbol for multiplication**"
   ]
  },
  {
   "cell_type": "code",
   "execution_count": 8,
   "metadata": {},
   "outputs": [
    {
     "name": "stdout",
     "output_type": "stream",
     "text": [
      "[[[0.36 0.24]]\n",
      "\n",
      " [[0.28 0.12]]]\n",
      "The probability that my friend is in Central Park after 1 hour is:  0.6399999999999999\n",
      "The probability that my friend is in Riverside Park after 1 hour is:  0.36\n"
     ]
    }
   ],
   "source": [
    "# BEGIN SOLUTION\n",
    "\n",
    "#A = Start in Central Park\n",
    "#B = Start in Riverside Park\n",
    "\n",
    "matrix = np.array([[v[0] * (m[:,0])], [v[1] * (m[:,1])]])\n",
    "print(matrix)\n",
    "sums = matrix.sum(axis=0)\n",
    "print(\"The probability that my friend is in Central Park after 1 hour is: \", sums[0][0])\n",
    "print(\"The probability that my friend is in Riverside Park after 1 hour is: \", sums[0][1])\n",
    "\n",
    "# TODO: solve me\n",
    "# END SOLUTIONt"
   ]
  },
  {
   "cell_type": "markdown",
   "metadata": {},
   "source": [
    "### Question 3"
   ]
  },
  {
   "cell_type": "markdown",
   "metadata": {},
   "source": [
    "a. Debugging is jargon for inspecting the code in a program line by line for errors. Try inspecting the following code -- locate, document and correct each error."
   ]
  },
  {
   "cell_type": "code",
   "execution_count": 3,
   "metadata": {
    "scrolled": true
   },
   "outputs": [
    {
     "name": "stdin",
     "output_type": "stream",
     "text": [
      "Input exam grade one:  89\n",
      "Input exam grade two:  90\n",
      "Input exam grade three:  90\n"
     ]
    },
    {
     "name": "stdout",
     "output_type": "stream",
     "text": [
      "90\n",
      "Exams:89, 90, 90\n",
      "Average: 90\n",
      "Grade: A\n",
      "Student is passing.\n"
     ]
    }
   ],
   "source": [
    "# Write a program that will average 3 numeric exam grades, return an average test score, a corresponding letter grade, and a message stating whether the student is passing.\n",
    "\n",
    "# Average\tGrade\n",
    "# 90+\tA\n",
    "# 80-89\tB\n",
    "# 70-79\tC\n",
    "# 60-69\tD\n",
    "# 0-59\tF\n",
    "\n",
    "exam_one = int(input(\"Input exam grade one: \"))\n",
    "\n",
    "#Without casting exam_two as an int, it would remain as a string\n",
    "exam_two = int(input(\"Input exam grade two: \"))\n",
    "\n",
    "#exam_3 was casted as a string, not int\n",
    "#Also, exam_3 should be renamed exam_three to keep consistent with the other variable names\n",
    "exam_three = int(input(\"Input exam grade three: \"))\n",
    "\n",
    "#Need commas to separate each element in a list\n",
    "grades = [exam_one, exam_two, exam_three]\n",
    "sum = 0\n",
    "\n",
    "#for grade is grades\n",
    "for grade in grades:\n",
    "    sum = sum + grade\n",
    "\n",
    "#typo for grades: should be \"grades\", not \"grdes\"\n",
    "avg = float(sum / len(grades))\n",
    "avg = round(avg)\n",
    "\n",
    "if avg >= 90:\n",
    "    letter_grade = \"A\"\n",
    "#There should be parentheses around the boolean statements and the following line is missing a colon\n",
    "elif (avg >= 80 and avg < 90):\n",
    "    letter_grade = \"B\"\n",
    "elif avg > 69 and avg < 80:\n",
    "\n",
    "#The letter_grade is \"C' but it should be \"C\": need to match quotations\n",
    "    letter_grade = \"C\"\n",
    "elif avg <= 69 and avg >= 65:\n",
    "    letter_grade = \"D\"\n",
    "    \n",
    "#Should be else not elif\n",
    "else:\n",
    "    letter_grade = \"F\"\n",
    "\n",
    "print(\"Exams:\" + str(exam_one) + \", \" + str(exam_two) + \", \" + str(exam_three))\n",
    "print(\"Average: \" + str(round(avg)))\n",
    "print(\"Grade: \" + letter_grade)\n",
    "\n",
    "if letter_grade is \"F\":\n",
    "    \n",
    "#missing parentheses\n",
    "    print (\"Student is failing.\")\n",
    "else:\n",
    "\n",
    "#missing parenthesis\n",
    "    print (\"Student is passing.\")"
   ]
  },
  {
   "cell_type": "code",
   "execution_count": null,
   "metadata": {},
   "outputs": [],
   "source": [
    "# TEST 1 \n",
    "# Exams: 89, 90, 90\n",
    "# Average: 90\n",
    "# Grade: A\n",
    "# Student is passing.\n",
    "\n",
    "# TEST 2\n",
    "# Exams: 50, 51, 0\n",
    "# Average: 33\n",
    "# Grade: F\n",
    "# Student is failing."
   ]
  },
  {
   "cell_type": "markdown",
   "metadata": {},
   "source": [
    "b. We can use debugging tool to explore the state of a running program without using print() statements everywhere. In Jupyter notebooks, we can import the ```pdb``` package for the debugger."
   ]
  },
  {
   "cell_type": "code",
   "execution_count": 4,
   "metadata": {},
   "outputs": [],
   "source": [
    "import pdb"
   ]
  },
  {
   "cell_type": "markdown",
   "metadata": {},
   "source": [
    "We can use the debugger in two ways: \n",
    "\n",
    "1. After the code threw an exception, we work **backwards** from the problem. \n",
    " * Run ```pdb.pm()``` to start the debugger after an exception. \n",
    " * Use the ```up``` command to work backwards. \n",
    " * Use ```quit``` to quit the debuggger. \n",
    "\n",
    "2. We place a **break-point** where execution halts and we work **forwards** line by line. \n",
    " * Place ```pdb.set_trace()``` in the line where execution should halt. \n",
    " * Try using the following to work forwards.\n",
    "    1. `list` - Displays 11 lines around the current line or continue the previous listing.\n",
    "    2. `step` - Execute the current line, stop at the first possible occasion.\n",
    "    3. `next` - Continue execution until the next line in the current function is reached or it returns.\n",
    "    4. `break` - Set another breakpoint at a line (depending on the argument provided).\n",
    "    5. `return` - Continue execution until the current function returns.\n",
    "   \n",
    " * For more information type `help` \n"
   ]
  },
  {
   "cell_type": "markdown",
   "metadata": {},
   "source": [
    "Save the following script to a file called ```fib.py```."
   ]
  },
  {
   "cell_type": "markdown",
   "metadata": {},
   "source": [
    "```python \n",
    "# fib.py\n",
    "\n",
    "import sys\n",
    "\n",
    "def fib(n):\n",
    "    if n == 0:\n",
    "        return 0\n",
    "    elif n == 1:\n",
    "        return 1\n",
    "    else:\n",
    "        return fib(n-1) + fib(n-2)\n",
    "\n",
    "for i in range(len(sys.argv)):\n",
    "    arg = sys.argv[i]\n",
    "    num = int(arg)\n",
    "    print(\"fib of\", num, \" = \", fib(num))\n",
    "```"
   ]
  },
  {
   "cell_type": "markdown",
   "metadata": {},
   "source": [
    "Try executing the following in a cell"
   ]
  },
  {
   "cell_type": "markdown",
   "metadata": {},
   "source": [
    "```python \n",
    "%run fib.py 4 5 6\n",
    "```"
   ]
  },
  {
   "cell_type": "code",
   "execution_count": 7,
   "metadata": {},
   "outputs": [
    {
     "name": "stdout",
     "output_type": "stream",
     "text": [
      "fib of 4  =  3\n",
      "fib of 5  =  5\n",
      "fib of 6  =  8\n"
     ]
    }
   ],
   "source": [
    "#The first argument is the name of the file, so it cannot be passed into the function. Skipping the first index will allow the program to run. \n",
    "\n",
    "%run fib.py 4 5 6"
   ]
  },
  {
   "cell_type": "markdown",
   "metadata": {},
   "source": [
    "What went wrong...use ```pdb``` to locate, document and correct the errors in ```fib.py```."
   ]
  },
  {
   "cell_type": "markdown",
   "metadata": {
    "nbgrader": {
     "grade": false,
     "grade_id": "question-4h",
     "locked": true,
     "schema_version": 2,
     "solution": false
    }
   },
   "source": [
    "### Question 4\n",
    "\n",
    "Consider the following scenario:\n",
    "\n",
    "Only $1\\%$ of 40-year-old women who participate in a routine mammography test have breast cancer. $80\\%$ of women who have breast cancer will test positive, but $9.6\\%$ of women who don’t have breast cancer will also get positive tests. "
   ]
  },
  {
   "cell_type": "markdown",
   "metadata": {},
   "source": [
    "a. Fill in the conditional probability table \n",
    "\n",
    "| &nbsp; | x = Has Cancer | x=  Does Not Have Cancer |\n",
    "| --- | --- | --- |\n",
    "| **Tested Positive given x** | .8 | .096 |\n",
    "| **Tested Negative given x** | .2 | .904 |"
   ]
  },
  {
   "cell_type": "markdown",
   "metadata": {},
   "source": [
    "**SOLUTION:**\n",
    "\n",
    "\n",
    "---------------"
   ]
  },
  {
   "cell_type": "markdown",
   "metadata": {},
   "source": [
    "b. Fill in the joint probability table \n",
    "\n",
    "| &nbsp; | Has Cancer | Does Not Have Cancer |\n",
    "| --- | --- | --- |\n",
    "| **Tested Positive** | .008 | .095 |\n",
    "| **Tested Negative** | .002 | .895 |"
   ]
  },
  {
   "cell_type": "markdown",
   "metadata": {},
   "source": [
    "**SOLUTION:**\n",
    "\n",
    "\n",
    "---------------"
   ]
  },
  {
   "cell_type": "markdown",
   "metadata": {
    "nbgrader": {
     "grade": false,
     "grade_id": "question-4h",
     "locked": true,
     "schema_version": 2,
     "solution": false
    }
   },
   "source": [
    "c. Suppose we know that a woman of this age tested positive in a routine screening. What is the probability that she actually has breast cancer?\n",
    "\n",
    "**Hint:** Use Bayes' rule."
   ]
  },
  {
   "cell_type": "markdown",
   "metadata": {},
   "source": [
    "**SOLUTION:**\n",
    "100 out of 10,000 women have breast cancer. 80% of those women have breast cancer, so 80 women. 9.6% of the 9900 who do not have breast cancer will test positive, so that is 950 women. 950 women who test positive though do not have breast cancer + 80 women who do have breast cancer and test positive = 1030 women. 80/1030 = 7.78%.\n",
    "\n",
    "---------------"
   ]
  },
  {
   "cell_type": "markdown",
   "metadata": {},
   "source": [
    "d. Sometimes, 40-year-old men will also get mammographies, if they are suspected to be at high risk to breast cancer. The overall prevalence of breast cancer in men who participate in the test is lower (0.01%). As with women, 80% of men who have breast cancer will test positive. Due to physiological diferences, only 2.4% of men who don't have breast cancer will test positively.\n",
    "\n",
    "For each of the following pairs of events $A$ and $B$, please determine whether or not they are independent:\n",
    "\n",
    "1. $A$ = the subject's sex (man or woman), $B$ = having breast cancer.\n",
    "2. $A$ = the subject's sex, $B$ = testing positively for breast cancer given having breast cancer.\n",
    "3. $A$ = the subject's sex, $B$ = testing positively for breast cancer.\n",
    "\n",
    "**Hint:** Events $A$ and $B$ are independent if $P(B \\mid A) = P(B)$"
   ]
  },
  {
   "cell_type": "markdown",
   "metadata": {},
   "source": [
    "**SOLUTION:**\n",
    "1. Dependent: Because men who participate in a test have a .01% of having breast cancer and women who participate in a test have a 1% chance, this event is dependent on gender because women have a higher chance of having breast cancer overall.\n",
    "2. Independent: Because both men and women who have breast cancer have an equal chance (80%) of testing positive, this event is independent. \n",
    "3. Dependent: Men who do not have breast cancer have a 2.4% probability of testing positively, while women have a 9.6% chance of testing positive even if they do not have breast cancer. This event is dependent on gender because the probabilities are different. \n",
    "---------------"
   ]
  }
 ],
 "metadata": {
  "celltoolbar": "Create Assignment",
  "kernelspec": {
   "display_name": "Python 3",
   "language": "python",
   "name": "python3"
  },
  "language_info": {
   "codemirror_mode": {
    "name": "ipython",
    "version": 3
   },
   "file_extension": ".py",
   "mimetype": "text/x-python",
   "name": "python",
   "nbconvert_exporter": "python",
   "pygments_lexer": "ipython3",
   "version": "3.7.0"
  },
  "toc": {
   "colors": {
    "hover_highlight": "#DAA520",
    "running_highlight": "#FF0000",
    "selected_highlight": "#FFD700"
   },
   "moveMenuLeft": true,
   "nav_menu": {
    "height": "512px",
    "width": "252px"
   },
   "navigate_menu": true,
   "number_sections": true,
   "sideBar": true,
   "threshold": 4,
   "toc_cell": true,
   "toc_section_display": "none",
   "toc_window_display": true
  }
 },
 "nbformat": 4,
 "nbformat_minor": 4
}
